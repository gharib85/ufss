{
 "cells": [
  {
   "cell_type": "code",
   "execution_count": 1,
   "metadata": {},
   "outputs": [],
   "source": [
    "%matplotlib notebook\n",
    "%load_ext autoreload\n",
    "%autoreload 2"
   ]
  },
  {
   "cell_type": "code",
   "execution_count": 15,
   "metadata": {},
   "outputs": [],
   "source": [
    "import numpy as np\n",
    "import ufss\n",
    "import os"
   ]
  },
  {
   "cell_type": "code",
   "execution_count": 17,
   "metadata": {},
   "outputs": [],
   "source": [
    "# initialize the module\n",
    "tdpe = ufss.DiagramAutomation()\n",
    "ta = ufss.DiagramAutomation()\n",
    "ta5order_a = ufss.DiagramAutomation()\n",
    "ta5order_b = ufss.DiagramAutomation()\n",
    "tdfs = ufss.DiagramAutomation(detection_type='fluorescence')\n",
    "eei2d = ufss.DiagramAutomation()"
   ]
  },
  {
   "cell_type": "code",
   "execution_count": 13,
   "metadata": {},
   "outputs": [],
   "source": [
    "# DiagramAutomation needs to know the phase-matching/-cycling condition\n",
    "# 2DPE example\n",
    "tdpe.efield_wavevectors = ['-','+','+']\n",
    "# Set the pulse durations\n",
    "t0 = np.linspace(-1,1,num=11)\n",
    "t1 = np.linspace(-2,2,num=21)\n",
    "t2 = np.linspace(-2,2,num=11)\n",
    "tlo = np.linspace(-3,3,num=31)\n",
    "tdpe.efield_times = [t0,t1,t2,tlo]"
   ]
  },
  {
   "cell_type": "code",
   "execution_count": 9,
   "metadata": {},
   "outputs": [
    {
     "data": {
      "image/png": "[encoded data removed]",
      "image/svg+xml": [
       "<?xml version=\"1.0\" encoding=\"utf-8\"?>\n",
       "<svg xmlns=\"http://www.w3.org/2000/svg\" fill=\"none\" version=\"1.1\" viewBox=\"-18.0079 -86.0394 63.6743 87.0394\" x=\"-18.0079pt\" y=\"-86.0394pt\" width=\"63.6743pt\" height=\"87.0394pt\" stroke-width=\"0.566929\" stroke-miterlimit=\"10.000000\">\n",
       " <path d=\"M0 -0L0 -28.3465\" stroke=\"black\"/>\n",
       " <path d=\"M28.3465 -0L28.3465 -28.3465\" stroke=\"black\"/>\n",
       " <path d=\"M31.1811 -14.1732L31.1811 -14.1782A2.83465 2.83465 0 0 0 25.5118 -14.1732A2.83465 2.83465 0 0 0 31.1811 -14.1683Z\" fill=\"black\"/>\n",
       " <path d=\"M42.5197 -0L32.7908 -9.72886\" stroke=\"black\"/>\n",
       " <g stroke-linecap=\"butt\" stroke-dasharray=\"none\">\n",
       "  <path d=\"M31.6008 -6.31661L28.3465 -14.1732L36.2031 -10.9189L32.7908 -9.72886Z\" fill=\"black\"/>\n",
       " </g>\n",
       " <g transform=\"matrix(1.000000,0.000000,0.000000,1.000000,39.685039,-2.834646)\">\n",
       "  <path d=\"M0.418431 -0M3.31756 -0.757161C3.35741 -0.358655 3.6264 0.0597758 4.09465 0.0597758C4.30386 0.0597758 4.91158 -0.0797011 4.91158 -0.886675L4.91158 -1.44458L4.66252 -1.44458L4.66252 -0.886675C4.66252 -0.308842 4.41345 -0.249066 4.30386 -0.249066C3.97509 -0.249066 3.93524 -0.697385 3.93524 -0.747198L3.93524 -2.73973C3.93524 -3.15816 3.93524 -3.5467 3.57659 -3.91532C3.18804 -4.30386 2.68991 -4.46326 2.21171 -4.46326C1.39477 -4.46326 0.707347 -3.99502 0.707347 -3.33748C0.707347 -3.03861 0.9066 -2.86924 1.16563 -2.86924C1.44458 -2.86924 1.62391 -3.06849 1.62391 -3.32752C1.62391 -3.44707 1.5741 -3.77584 1.11582 -3.7858C1.38481 -4.1345 1.87298 -4.24408 2.19178 -4.24408C2.67995 -4.24408 3.24782 -3.85554 3.24782 -2.96887L3.24782 -2.60025C2.73973 -2.57036 2.04234 -2.54047 1.41469 -2.24159C0.667497 -1.90286 0.418431 -1.38481 0.418431 -0.946451C0.418431 -0.139477 1.38481 0.109589 2.01245 0.109589C2.66999 0.109589 3.12827 -0.288917 3.31756 -0.757161ZM3.31756 -0.757161M3.24782 -2.39103L3.24782 -1.39477C3.24782 -0.448319 2.53051 -0.109589 2.08219 -0.109589C1.59402 -0.109589 1.18555 -0.458281 1.18555 -0.956413C1.18555 -1.50436 1.60399 -2.33126 3.24782 -2.39103ZM3.24782 -2.39103\" fill=\"black\"/>\n",
       " </g>\n",
       " <path d=\"M0 -28.3465L0 -56.6929\" stroke=\"black\"/>\n",
       " <path d=\"M28.3465 -28.3465L28.3465 -56.6929\" stroke=\"black\"/>\n",
       " <path d=\"M2.83465 -42.5197L2.83464 -42.5246A2.83465 2.83465 0 0 0 -2.83465 -42.5197A2.83465 2.83465 0 0 0 2.83464 -42.5147Z\" fill=\"black\"/>\n",
       " <path d=\"M-14.1732 -28.3465L-4.44437 -38.0753\" stroke=\"black\"/>\n",
       " <g stroke-linecap=\"butt\" stroke-dasharray=\"none\">\n",
       "  <path d=\"M-7.85661 -39.2654L0 -42.5197L-3.25432 -34.6631L-4.44437 -38.0753Z\" fill=\"black\"/>\n",
       " </g>\n",
       " <g transform=\"matrix(1.000000,0.000000,0.000000,1.000000,-17.007874,-31.181102)\">\n",
       "  <path d=\"M0.278954 -0M1.71357 -3.75592L1.71357 -6.91407L0.278954 -6.80448L0.278954 -6.49564C0.976339 -6.49564 1.05604 -6.4259 1.05604 -5.93773L1.05604 -0L1.30511 -0C1.31507 -0.00996264 1.39477 -0.14944 1.66376 -0.617684C1.8132 -0.388543 2.23163 0.109589 2.96887 0.109589C4.15442 0.109589 5.19054 -0.86675 5.19054 -2.15193C5.19054 -3.41719 4.2142 -4.40349 3.07846 -4.40349C2.30137 -4.40349 1.87298 -3.93524 1.71357 -3.75592ZM1.71357 -3.75592M1.74346 -1.13574L1.74346 -3.18804C1.74346 -3.37733 1.74346 -3.3873 1.85305 -3.5467C2.24159 -4.10461 2.78954 -4.18431 3.02864 -4.18431C3.47696 -4.18431 3.83562 -3.92528 4.07472 -3.5467C4.33375 -3.13823 4.36364 -2.57036 4.36364 -2.16189C4.36364 -1.79328 4.34371 -1.19552 4.05479 -0.747198C3.84558 -0.438356 3.467 -0.109589 2.92902 -0.109589C2.4807 -0.109589 2.12204 -0.348692 1.88294 -0.71731C1.74346 -0.926526 1.74346 -0.956413 1.74346 -1.13574ZM1.74346 -1.13574\" fill=\"black\"/>\n",
       " </g>\n",
       " <path d=\"M0 -56.6929L0 -85.0394\" stroke=\"black\"/>\n",
       " <path d=\"M28.3465 -56.6929L28.3465 -85.0394\" stroke=\"black\"/>\n",
       " <path d=\"M2.83465 -70.8661L2.83464 -70.8711A2.83465 2.83465 0 0 0 -2.83465 -70.8661A2.83465 2.83465 0 0 0 2.83464 -70.8612Z\" fill=\"black\"/>\n",
       " <path d=\"M-14.1732 -56.6929L-4.44437 -66.4218\" stroke=\"black\"/>\n",
       " <g stroke-linecap=\"butt\" stroke-dasharray=\"none\">\n",
       "  <path d=\"M-7.85661 -67.6118L0 -70.8661L-3.25432 -63.0095L-4.44437 -66.4218Z\" fill=\"black\"/>\n",
       " </g>\n",
       " <g transform=\"matrix(1.000000,0.000000,0.000000,1.000000,-17.007874,-59.527559)\">\n",
       "  <path d=\"M0.33873 -0M1.16563 -2.17186C1.16563 -3.79577 1.98257 -4.2142 2.51059 -4.2142C2.60025 -4.2142 3.2279 -4.20423 3.57659 -3.84558C3.16812 -3.81569 3.10834 -3.51681 3.10834 -3.3873C3.10834 -3.12827 3.28767 -2.92902 3.56663 -2.92902C3.82565 -2.92902 4.02491 -3.09838 4.02491 -3.39726C4.02491 -4.07472 3.26775 -4.46326 2.50062 -4.46326C1.25529 -4.46326 0.33873 -3.3873 0.33873 -2.15193C0.33873 -0.876712 1.32503 0.109589 2.4807 0.109589C3.81569 0.109589 4.1345 -1.08593 4.1345 -1.18555C4.1345 -1.28518 4.03487 -1.28518 4.00498 -1.28518C3.91532 -1.28518 3.89539 -1.24533 3.87547 -1.18555C3.58655 -0.259029 2.93898 -0.139477 2.57036 -0.139477C2.04234 -0.139477 1.16563 -0.56787 1.16563 -2.17186ZM1.16563 -2.17186\" fill=\"black\"/>\n",
       " </g>\n",
       "</svg>\n"
      ],
      "text/plain": [
       "<pyx.canvas.canvas at 0x182089f908>"
      ]
     },
     "metadata": {},
     "output_type": "display_data"
    },
    {
     "data": {
      "image/png": "[encoded data removed]",
      "image/svg+xml": [
       "<?xml version=\"1.0\" encoding=\"utf-8\"?>\n",
       "<svg xmlns=\"http://www.w3.org/2000/svg\" fill=\"none\" version=\"1.1\" viewBox=\"-18.0079 -86.0394 63.6743 87.0394\" x=\"-18.0079pt\" y=\"-86.0394pt\" width=\"63.6743pt\" height=\"87.0394pt\" stroke-width=\"0.566929\" stroke-miterlimit=\"10.000000\">\n",
       " <path d=\"M0 -0L0 -28.3465\" stroke=\"black\"/>\n",
       " <path d=\"M28.3465 -0L28.3465 -28.3465\" stroke=\"black\"/>\n",
       " <path d=\"M31.1811 -14.1732L31.1811 -14.1782A2.83465 2.83465 0 0 0 25.5118 -14.1732A2.83465 2.83465 0 0 0 31.1811 -14.1683Z\" fill=\"black\"/>\n",
       " <path d=\"M42.5197 -0L32.7908 -9.72886\" stroke=\"black\"/>\n",
       " <g stroke-linecap=\"butt\" stroke-dasharray=\"none\">\n",
       "  <path d=\"M31.6008 -6.31661L28.3465 -14.1732L36.2031 -10.9189L32.7908 -9.72886Z\" fill=\"black\"/>\n",
       " </g>\n",
       " <g transform=\"matrix(1.000000,0.000000,0.000000,1.000000,39.685039,-2.834646)\">\n",
       "  <path d=\"M0.418431 -0M3.31756 -0.757161C3.35741 -0.358655 3.6264 0.0597758 4.09465 0.0597758C4.30386 0.0597758 4.91158 -0.0797011 4.91158 -0.886675L4.91158 -1.44458L4.66252 -1.44458L4.66252 -0.886675C4.66252 -0.308842 4.41345 -0.249066 4.30386 -0.249066C3.97509 -0.249066 3.93524 -0.697385 3.93524 -0.747198L3.93524 -2.73973C3.93524 -3.15816 3.93524 -3.5467 3.57659 -3.91532C3.18804 -4.30386 2.68991 -4.46326 2.21171 -4.46326C1.39477 -4.46326 0.707347 -3.99502 0.707347 -3.33748C0.707347 -3.03861 0.9066 -2.86924 1.16563 -2.86924C1.44458 -2.86924 1.62391 -3.06849 1.62391 -3.32752C1.62391 -3.44707 1.5741 -3.77584 1.11582 -3.7858C1.38481 -4.1345 1.87298 -4.24408 2.19178 -4.24408C2.67995 -4.24408 3.24782 -3.85554 3.24782 -2.96887L3.24782 -2.60025C2.73973 -2.57036 2.04234 -2.54047 1.41469 -2.24159C0.667497 -1.90286 0.418431 -1.38481 0.418431 -0.946451C0.418431 -0.139477 1.38481 0.109589 2.01245 0.109589C2.66999 0.109589 3.12827 -0.288917 3.31756 -0.757161ZM3.31756 -0.757161M3.24782 -2.39103L3.24782 -1.39477C3.24782 -0.448319 2.53051 -0.109589 2.08219 -0.109589C1.59402 -0.109589 1.18555 -0.458281 1.18555 -0.956413C1.18555 -1.50436 1.60399 -2.33126 3.24782 -2.39103ZM3.24782 -2.39103\" fill=\"black\"/>\n",
       " </g>\n",
       " <path d=\"M0 -28.3465L0 -56.6929\" stroke=\"black\"/>\n",
       " <path d=\"M28.3465 -28.3465L28.3465 -56.6929\" stroke=\"black\"/>\n",
       " <path d=\"M2.83465 -42.5197L2.83464 -42.5246A2.83465 2.83465 0 0 0 -2.83465 -42.5197A2.83465 2.83465 0 0 0 2.83464 -42.5147Z\" fill=\"black\"/>\n",
       " <path d=\"M-14.1732 -28.3465L-4.44437 -38.0753\" stroke=\"black\"/>\n",
       " <g stroke-linecap=\"butt\" stroke-dasharray=\"none\">\n",
       "  <path d=\"M-7.85661 -39.2654L0 -42.5197L-3.25432 -34.6631L-4.44437 -38.0753Z\" fill=\"black\"/>\n",
       " </g>\n",
       " <g transform=\"matrix(1.000000,0.000000,0.000000,1.000000,-17.007874,-31.181102)\">\n",
       "  <path d=\"M0.278954 -0M1.71357 -3.75592L1.71357 -6.91407L0.278954 -6.80448L0.278954 -6.49564C0.976339 -6.49564 1.05604 -6.4259 1.05604 -5.93773L1.05604 -0L1.30511 -0C1.31507 -0.00996264 1.39477 -0.14944 1.66376 -0.617684C1.8132 -0.388543 2.23163 0.109589 2.96887 0.109589C4.15442 0.109589 5.19054 -0.86675 5.19054 -2.15193C5.19054 -3.41719 4.2142 -4.40349 3.07846 -4.40349C2.30137 -4.40349 1.87298 -3.93524 1.71357 -3.75592ZM1.71357 -3.75592M1.74346 -1.13574L1.74346 -3.18804C1.74346 -3.37733 1.74346 -3.3873 1.85305 -3.5467C2.24159 -4.10461 2.78954 -4.18431 3.02864 -4.18431C3.47696 -4.18431 3.83562 -3.92528 4.07472 -3.5467C4.33375 -3.13823 4.36364 -2.57036 4.36364 -2.16189C4.36364 -1.79328 4.34371 -1.19552 4.05479 -0.747198C3.84558 -0.438356 3.467 -0.109589 2.92902 -0.109589C2.4807 -0.109589 2.12204 -0.348692 1.88294 -0.71731C1.74346 -0.926526 1.74346 -0.956413 1.74346 -1.13574ZM1.74346 -1.13574\" fill=\"black\"/>\n",
       " </g>\n",
       " <path d=\"M0 -56.6929L0 -85.0394\" stroke=\"black\"/>\n",
       " <path d=\"M28.3465 -56.6929L28.3465 -85.0394\" stroke=\"black\"/>\n",
       " <path d=\"M31.1811 -70.8661L31.1811 -70.8711A2.83465 2.83465 0 0 0 25.5118 -70.8661A2.83465 2.83465 0 0 0 31.1811 -70.8612Z\" fill=\"black\"/>\n",
       " <path d=\"M28.3465 -70.8661L38.0753 -80.595\" stroke=\"black\"/>\n",
       " <g stroke-linecap=\"butt\" stroke-dasharray=\"none\">\n",
       "  <path d=\"M34.6631 -81.7851L42.5197 -85.0394L39.2654 -77.1828L38.0753 -80.595Z\" fill=\"black\"/>\n",
       " </g>\n",
       " <g transform=\"matrix(1.000000,0.000000,0.000000,1.000000,39.685039,-70.866142)\">\n",
       "  <path d=\"M0.33873 -0M1.16563 -2.17186C1.16563 -3.79577 1.98257 -4.2142 2.51059 -4.2142C2.60025 -4.2142 3.2279 -4.20423 3.57659 -3.84558C3.16812 -3.81569 3.10834 -3.51681 3.10834 -3.3873C3.10834 -3.12827 3.28767 -2.92902 3.56663 -2.92902C3.82565 -2.92902 4.02491 -3.09838 4.02491 -3.39726C4.02491 -4.07472 3.26775 -4.46326 2.50062 -4.46326C1.25529 -4.46326 0.33873 -3.3873 0.33873 -2.15193C0.33873 -0.876712 1.32503 0.109589 2.4807 0.109589C3.81569 0.109589 4.1345 -1.08593 4.1345 -1.18555C4.1345 -1.28518 4.03487 -1.28518 4.00498 -1.28518C3.91532 -1.28518 3.89539 -1.24533 3.87547 -1.18555C3.58655 -0.259029 2.93898 -0.139477 2.57036 -0.139477C2.04234 -0.139477 1.16563 -0.56787 1.16563 -2.17186ZM1.16563 -2.17186\" fill=\"black\"/>\n",
       " </g>\n",
       "</svg>\n"
      ],
      "text/plain": [
       "<pyx.canvas.canvas at 0x18205f90b8>"
      ]
     },
     "metadata": {},
     "output_type": "display_data"
    },
    {
     "data": {
      "image/png": "[encoded data removed]",
      "image/svg+xml": [
       "<?xml version=\"1.0\" encoding=\"utf-8\"?>\n",
       "<svg xmlns=\"http://www.w3.org/2000/svg\" fill=\"none\" version=\"1.1\" viewBox=\"-18.0079 -86.0394 64.2277 87.0394\" x=\"-18.0079pt\" y=\"-86.0394pt\" width=\"64.2277pt\" height=\"87.0394pt\" stroke-width=\"0.566929\" stroke-miterlimit=\"10.000000\">\n",
       " <path d=\"M0 -0L0 -28.3465\" stroke=\"black\"/>\n",
       " <path d=\"M28.3465 -0L28.3465 -28.3465\" stroke=\"black\"/>\n",
       " <path d=\"M31.1811 -14.1732L31.1811 -14.1782A2.83465 2.83465 0 0 0 25.5118 -14.1732A2.83465 2.83465 0 0 0 31.1811 -14.1683Z\" fill=\"black\"/>\n",
       " <path d=\"M42.5197 -0L32.7908 -9.72886\" stroke=\"black\"/>\n",
       " <g stroke-linecap=\"butt\" stroke-dasharray=\"none\">\n",
       "  <path d=\"M31.6008 -6.31661L28.3465 -14.1732L36.2031 -10.9189L32.7908 -9.72886Z\" fill=\"black\"/>\n",
       " </g>\n",
       " <g transform=\"matrix(1.000000,0.000000,0.000000,1.000000,39.685039,-2.834646)\">\n",
       "  <path d=\"M0.418431 -0M3.31756 -0.757161C3.35741 -0.358655 3.6264 0.0597758 4.09465 0.0597758C4.30386 0.0597758 4.91158 -0.0797011 4.91158 -0.886675L4.91158 -1.44458L4.66252 -1.44458L4.66252 -0.886675C4.66252 -0.308842 4.41345 -0.249066 4.30386 -0.249066C3.97509 -0.249066 3.93524 -0.697385 3.93524 -0.747198L3.93524 -2.73973C3.93524 -3.15816 3.93524 -3.5467 3.57659 -3.91532C3.18804 -4.30386 2.68991 -4.46326 2.21171 -4.46326C1.39477 -4.46326 0.707347 -3.99502 0.707347 -3.33748C0.707347 -3.03861 0.9066 -2.86924 1.16563 -2.86924C1.44458 -2.86924 1.62391 -3.06849 1.62391 -3.32752C1.62391 -3.44707 1.5741 -3.77584 1.11582 -3.7858C1.38481 -4.1345 1.87298 -4.24408 2.19178 -4.24408C2.67995 -4.24408 3.24782 -3.85554 3.24782 -2.96887L3.24782 -2.60025C2.73973 -2.57036 2.04234 -2.54047 1.41469 -2.24159C0.667497 -1.90286 0.418431 -1.38481 0.418431 -0.946451C0.418431 -0.139477 1.38481 0.109589 2.01245 0.109589C2.66999 0.109589 3.12827 -0.288917 3.31756 -0.757161ZM3.31756 -0.757161M3.24782 -2.39103L3.24782 -1.39477C3.24782 -0.448319 2.53051 -0.109589 2.08219 -0.109589C1.59402 -0.109589 1.18555 -0.458281 1.18555 -0.956413C1.18555 -1.50436 1.60399 -2.33126 3.24782 -2.39103ZM3.24782 -2.39103\" fill=\"black\"/>\n",
       " </g>\n",
       " <path d=\"M0 -28.3465L0 -56.6929\" stroke=\"black\"/>\n",
       " <path d=\"M28.3465 -28.3465L28.3465 -56.6929\" stroke=\"black\"/>\n",
       " <path d=\"M31.1811 -42.5197L31.1811 -42.5246A2.83465 2.83465 0 0 0 25.5118 -42.5197A2.83465 2.83465 0 0 0 31.1811 -42.5147Z\" fill=\"black\"/>\n",
       " <path d=\"M28.3465 -42.5197L38.0753 -52.2485\" stroke=\"black\"/>\n",
       " <g stroke-linecap=\"butt\" stroke-dasharray=\"none\">\n",
       "  <path d=\"M34.6631 -53.4386L42.5197 -56.6929L39.2654 -48.8363L38.0753 -52.2485Z\" fill=\"black\"/>\n",
       " </g>\n",
       " <g transform=\"matrix(1.000000,0.000000,0.000000,1.000000,39.685039,-42.519685)\">\n",
       "  <path d=\"M0.278954 -0M1.71357 -3.75592L1.71357 -6.91407L0.278954 -6.80448L0.278954 -6.49564C0.976339 -6.49564 1.05604 -6.4259 1.05604 -5.93773L1.05604 -0L1.30511 -0C1.31507 -0.00996264 1.39477 -0.14944 1.66376 -0.617684C1.8132 -0.388543 2.23163 0.109589 2.96887 0.109589C4.15442 0.109589 5.19054 -0.86675 5.19054 -2.15193C5.19054 -3.41719 4.2142 -4.40349 3.07846 -4.40349C2.30137 -4.40349 1.87298 -3.93524 1.71357 -3.75592ZM1.71357 -3.75592M1.74346 -1.13574L1.74346 -3.18804C1.74346 -3.37733 1.74346 -3.3873 1.85305 -3.5467C2.24159 -4.10461 2.78954 -4.18431 3.02864 -4.18431C3.47696 -4.18431 3.83562 -3.92528 4.07472 -3.5467C4.33375 -3.13823 4.36364 -2.57036 4.36364 -2.16189C4.36364 -1.79328 4.34371 -1.19552 4.05479 -0.747198C3.84558 -0.438356 3.467 -0.109589 2.92902 -0.109589C2.4807 -0.109589 2.12204 -0.348692 1.88294 -0.71731C1.74346 -0.926526 1.74346 -0.956413 1.74346 -1.13574ZM1.74346 -1.13574\" fill=\"black\"/>\n",
       " </g>\n",
       " <path d=\"M0 -56.6929L0 -85.0394\" stroke=\"black\"/>\n",
       " <path d=\"M28.3465 -56.6929L28.3465 -85.0394\" stroke=\"black\"/>\n",
       " <path d=\"M2.83465 -70.8661L2.83464 -70.8711A2.83465 2.83465 0 0 0 -2.83465 -70.8661A2.83465 2.83465 0 0 0 2.83464 -70.8612Z\" fill=\"black\"/>\n",
       " <path d=\"M-14.1732 -56.6929L-4.44437 -66.4218\" stroke=\"black\"/>\n",
       " <g stroke-linecap=\"butt\" stroke-dasharray=\"none\">\n",
       "  <path d=\"M-7.85661 -67.6118L0 -70.8661L-3.25432 -63.0095L-4.44437 -66.4218Z\" fill=\"black\"/>\n",
       " </g>\n",
       " <g transform=\"matrix(1.000000,0.000000,0.000000,1.000000,-17.007874,-59.527559)\">\n",
       "  <path d=\"M0.33873 -0M1.16563 -2.17186C1.16563 -3.79577 1.98257 -4.2142 2.51059 -4.2142C2.60025 -4.2142 3.2279 -4.20423 3.57659 -3.84558C3.16812 -3.81569 3.10834 -3.51681 3.10834 -3.3873C3.10834 -3.12827 3.28767 -2.92902 3.56663 -2.92902C3.82565 -2.92902 4.02491 -3.09838 4.02491 -3.39726C4.02491 -4.07472 3.26775 -4.46326 2.50062 -4.46326C1.25529 -4.46326 0.33873 -3.3873 0.33873 -2.15193C0.33873 -0.876712 1.32503 0.109589 2.4807 0.109589C3.81569 0.109589 4.1345 -1.08593 4.1345 -1.18555C4.1345 -1.28518 4.03487 -1.28518 4.00498 -1.28518C3.91532 -1.28518 3.89539 -1.24533 3.87547 -1.18555C3.58655 -0.259029 2.93898 -0.139477 2.57036 -0.139477C2.04234 -0.139477 1.16563 -0.56787 1.16563 -2.17186ZM1.16563 -2.17186\" fill=\"black\"/>\n",
       " </g>\n",
       "</svg>\n"
      ],
      "text/plain": [
       "<pyx.canvas.canvas at 0x18207002b0>"
      ]
     },
     "metadata": {},
     "output_type": "display_data"
    }
   ],
   "source": [
    "# using a list of pulse arrival times, we can generate the diagrams that contribute for \n",
    "# that set of arrival times\n",
    "time_ordered_diagrams = tdpe.get_diagrams([0,100,200,200])\n",
    "tdpe.display_diagrams(time_ordered_diagrams)"
   ]
  },
  {
   "cell_type": "code",
   "execution_count": 16,
   "metadata": {
    "scrolled": true
   },
   "outputs": [],
   "source": [
    "all_diagrams = tdpe.get_diagrams([0,1,2,2])\n",
    "# Check in this folder to see 16 individual diagrams\n",
    "tdpe_diagrams_folder = 'TDPE_all_diagrams'\n",
    "os.makedirs(tdpe_diagrams_folder)\n",
    "tdpe.save_diagrams(all_diagrams,folder_name=tdpe_diagrams_folder)"
   ]
  },
  {
   "cell_type": "code",
   "execution_count": 18,
   "metadata": {},
   "outputs": [],
   "source": [
    "# other examples can be constructed as follows\n",
    "ta.efield_wavevectors = ['+-','+']\n",
    "ta5order_a.efield_wavevectors = ['++--','+']\n",
    "ta5order_b.efield_wavevectors = ['+-','++-']\n",
    "tdfs.efield_wavevectors = ['-','+','+','-']\n",
    "eei2d.efield_wavevectors = ['--','++','-']"
   ]
  },
  {
   "cell_type": "code",
   "execution_count": null,
   "metadata": {},
   "outputs": [],
   "source": []
  }
 ],
 "metadata": {
  "kernelspec": {
   "display_name": "Python 3",
   "language": "python",
   "name": "python3"
  },
  "language_info": {
   "codemirror_mode": {
    "name": "ipython",
    "version": 3
   },
   "file_extension": ".py",
   "mimetype": "text/x-python",
   "name": "python",
   "nbconvert_exporter": "python",
   "pygments_lexer": "ipython3",
   "version": "3.7.3"
  }
 },
 "nbformat": 4,
 "nbformat_minor": 4
}
